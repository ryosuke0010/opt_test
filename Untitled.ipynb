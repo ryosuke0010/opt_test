{
 "cells": [
  {
   "cell_type": "code",
   "execution_count": 3,
   "id": "2007bb63",
   "metadata": {},
   "outputs": [
    {
     "ename": "AttributeError",
     "evalue": "module 'openai_secret_manager' has no attribute 'get_services'",
     "output_type": "error",
     "traceback": [
      "\u001b[1;31m---------------------------------------------------------------------------\u001b[0m",
      "\u001b[1;31mAttributeError\u001b[0m                            Traceback (most recent call last)",
      "Input \u001b[1;32mIn [3]\u001b[0m, in \u001b[0;36m<cell line: 3>\u001b[1;34m()\u001b[0m\n\u001b[0;32m      1\u001b[0m \u001b[38;5;28;01mimport\u001b[39;00m \u001b[38;5;21;01mopenai_secret_manager\u001b[39;00m\n\u001b[1;32m----> 3\u001b[0m \u001b[38;5;28;01massert\u001b[39;00m \u001b[38;5;124m\"\u001b[39m\u001b[38;5;124mopenai\u001b[39m\u001b[38;5;124m\"\u001b[39m \u001b[38;5;129;01min\u001b[39;00m \u001b[43mopenai_secret_manager\u001b[49m\u001b[38;5;241;43m.\u001b[39;49m\u001b[43mget_services\u001b[49m()\n\u001b[0;32m      4\u001b[0m secrets \u001b[38;5;241m=\u001b[39m openai_secret_manager\u001b[38;5;241m.\u001b[39mget_secret(\u001b[38;5;124m\"\u001b[39m\u001b[38;5;124mopenai\u001b[39m\u001b[38;5;124m\"\u001b[39m)\n\u001b[0;32m      6\u001b[0m \u001b[38;5;28;01mimport\u001b[39;00m \u001b[38;5;21;01mopenai\u001b[39;00m\n",
      "\u001b[1;31mAttributeError\u001b[0m: module 'openai_secret_manager' has no attribute 'get_services'"
     ]
    }
   ],
   "source": [
    "import openai_secret_manager\n",
    "\n",
    "assert \"openai\" in openai_secret_manager.get_services()\n",
    "secrets = openai_secret_manager.get_secret(\"openai\")\n",
    "\n",
    "import openai\n",
    "openai.api_key = secrets[\"api_key\"]\n",
    "\n",
    "# GPT-3.5を使って文章を生成する例\n",
    "prompt = \"The following is a conversation with an AI assistant. The assistant is helpful, creative, clever, and very friendly. \\n\\n\"\n",
    "completions = openai.Completion.create(\n",
    "    engine=\"davinci-codex\",\n",
    "    prompt=prompt,\n",
    "    max_tokens=1024,\n",
    "    n=1,\n",
    "    stop=None,\n",
    "    temperature=0.7,\n",
    ")\n",
    "\n",
    "message = completions.choices[0].text\n",
    "print(message)\n"
   ]
  },
  {
   "cell_type": "code",
   "execution_count": 1,
   "id": "c44af860",
   "metadata": {},
   "outputs": [
    {
     "name": "stdout",
     "output_type": "stream",
     "text": [
      "['__builtins__', '__cached__', '__doc__', '__file__', '__loader__', '__name__', '__package__', '__spec__', 'get_openai_api_key', 'get_secret', 'openai', 'openai_secret_manager', 'set_openai_api_key', 'set_secret']\n"
     ]
    }
   ],
   "source": [
    "import openai_secret_manager\n",
    "print(dir(openai_secret_manager))"
   ]
  },
  {
   "cell_type": "code",
   "execution_count": null,
   "id": "3b83da6b",
   "metadata": {},
   "outputs": [],
   "source": [
    "import openai_secret_manager\n",
    "secrets = openai_secret_manager.get_secret(\"openai\")\n",
    "services = secrets.keys()\n",
    "print(list(services))"
   ]
  },
  {
   "cell_type": "code",
   "execution_count": null,
   "id": "94bd2289",
   "metadata": {},
   "outputs": [],
   "source": []
  }
 ],
 "metadata": {
  "kernelspec": {
   "display_name": "Python 3 (ipykernel)",
   "language": "python",
   "name": "python3"
  },
  "language_info": {
   "codemirror_mode": {
    "name": "ipython",
    "version": 3
   },
   "file_extension": ".py",
   "mimetype": "text/x-python",
   "name": "python",
   "nbconvert_exporter": "python",
   "pygments_lexer": "ipython3",
   "version": "3.9.12"
  }
 },
 "nbformat": 4,
 "nbformat_minor": 5
}
