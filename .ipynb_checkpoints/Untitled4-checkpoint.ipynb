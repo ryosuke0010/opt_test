{
 "cells": [
  {
   "cell_type": "code",
   "execution_count": 2,
   "id": "afea66ac",
   "metadata": {},
   "outputs": [],
   "source": [
    "import pandas as pd\n",
    "import numpy as np\n",
    "import pulp"
   ]
  },
  {
   "cell_type": "code",
   "execution_count": 3,
   "id": "168b5b5b",
   "metadata": {},
   "outputs": [],
   "source": [
    "teacher_df = pd.DataFrame()"
   ]
  },
  {
   "cell_type": "code",
   "execution_count": 4,
   "id": "ed223a7a",
   "metadata": {},
   "outputs": [],
   "source": [
    "teacher_list = [f'教員{i}' for i in range(22)]\n",
    "subject_list = [\"英語\",\"数学\",\"国語\",\"理科\",\"社会\",\"美術\",\"音楽\",\"体育\",\"技術\",\"家庭科\",\"総合\",\"道徳\"]\n",
    "class_dict = {3:[1,2,3,4,5],2:[1,2,3,4],1:[1,2,3,4]}"
   ]
  },
  {
   "cell_type": "code",
   "execution_count": 5,
   "id": "2c6ead86",
   "metadata": {},
   "outputs": [],
   "source": [
    "lesson_df = pd.read_csv(\"./構成.csv\")"
   ]
  },
  {
   "cell_type": "code",
   "execution_count": 6,
   "id": "22ccdcda",
   "metadata": {},
   "outputs": [],
   "source": [
    "period = [1,2,3,4,5,6]"
   ]
  },
  {
   "cell_type": "code",
   "execution_count": 7,
   "id": "3be8d063",
   "metadata": {},
   "outputs": [
    {
     "data": {
      "text/html": [
       "<div>\n",
       "<style scoped>\n",
       "    .dataframe tbody tr th:only-of-type {\n",
       "        vertical-align: middle;\n",
       "    }\n",
       "\n",
       "    .dataframe tbody tr th {\n",
       "        vertical-align: top;\n",
       "    }\n",
       "\n",
       "    .dataframe thead th {\n",
       "        text-align: right;\n",
       "    }\n",
       "</style>\n",
       "<table border=\"1\" class=\"dataframe\">\n",
       "  <thead>\n",
       "    <tr style=\"text-align: right;\">\n",
       "      <th></th>\n",
       "      <th>gr</th>\n",
       "      <th>cl</th>\n",
       "      <th>英語</th>\n",
       "      <th>数学</th>\n",
       "      <th>国語</th>\n",
       "      <th>理科</th>\n",
       "      <th>社会</th>\n",
       "      <th>美術</th>\n",
       "      <th>音楽</th>\n",
       "      <th>体育</th>\n",
       "      <th>技術</th>\n",
       "      <th>家庭科</th>\n",
       "      <th>総合</th>\n",
       "      <th>道徳</th>\n",
       "    </tr>\n",
       "  </thead>\n",
       "  <tbody>\n",
       "    <tr>\n",
       "      <th>0</th>\n",
       "      <td>3</td>\n",
       "      <td>1</td>\n",
       "      <td>教員6</td>\n",
       "      <td>教員9</td>\n",
       "      <td>教員15</td>\n",
       "      <td>教員14</td>\n",
       "      <td>教員18</td>\n",
       "      <td>教員0</td>\n",
       "      <td>教員1</td>\n",
       "      <td>教員2</td>\n",
       "      <td>教員5</td>\n",
       "      <td>教員21</td>\n",
       "      <td>教員9</td>\n",
       "      <td>教員9</td>\n",
       "    </tr>\n",
       "    <tr>\n",
       "      <th>1</th>\n",
       "      <td>3</td>\n",
       "      <td>2</td>\n",
       "      <td>教員6</td>\n",
       "      <td>教員9</td>\n",
       "      <td>教員15</td>\n",
       "      <td>教員14</td>\n",
       "      <td>教員20</td>\n",
       "      <td>教員0</td>\n",
       "      <td>教員1</td>\n",
       "      <td>教員2</td>\n",
       "      <td>教員5</td>\n",
       "      <td>教員21</td>\n",
       "      <td>教員2</td>\n",
       "      <td>教員2</td>\n",
       "    </tr>\n",
       "    <tr>\n",
       "      <th>2</th>\n",
       "      <td>3</td>\n",
       "      <td>3</td>\n",
       "      <td>教員6</td>\n",
       "      <td>教員11</td>\n",
       "      <td>教員15</td>\n",
       "      <td>教員13</td>\n",
       "      <td>教員18</td>\n",
       "      <td>教員0</td>\n",
       "      <td>教員1</td>\n",
       "      <td>教員2</td>\n",
       "      <td>教員5</td>\n",
       "      <td>教員21</td>\n",
       "      <td>教員6</td>\n",
       "      <td>教員6</td>\n",
       "    </tr>\n",
       "    <tr>\n",
       "      <th>3</th>\n",
       "      <td>3</td>\n",
       "      <td>4</td>\n",
       "      <td>教員6</td>\n",
       "      <td>教員9</td>\n",
       "      <td>教員15</td>\n",
       "      <td>教員13</td>\n",
       "      <td>教員18</td>\n",
       "      <td>教員0</td>\n",
       "      <td>教員1</td>\n",
       "      <td>教員2</td>\n",
       "      <td>教員5</td>\n",
       "      <td>教員21</td>\n",
       "      <td>教員18</td>\n",
       "      <td>教員18</td>\n",
       "    </tr>\n",
       "    <tr>\n",
       "      <th>4</th>\n",
       "      <td>3</td>\n",
       "      <td>5</td>\n",
       "      <td>教員6</td>\n",
       "      <td>教員9</td>\n",
       "      <td>教員15</td>\n",
       "      <td>教員13</td>\n",
       "      <td>教員18</td>\n",
       "      <td>教員0</td>\n",
       "      <td>教員1</td>\n",
       "      <td>教員2</td>\n",
       "      <td>教員5</td>\n",
       "      <td>教員21</td>\n",
       "      <td>教員15</td>\n",
       "      <td>教員15</td>\n",
       "    </tr>\n",
       "    <tr>\n",
       "      <th>5</th>\n",
       "      <td>2</td>\n",
       "      <td>1</td>\n",
       "      <td>教員7</td>\n",
       "      <td>教員10</td>\n",
       "      <td>教員16</td>\n",
       "      <td>教員12</td>\n",
       "      <td>教員19</td>\n",
       "      <td>教員0</td>\n",
       "      <td>教員1</td>\n",
       "      <td>教員3</td>\n",
       "      <td>教員5</td>\n",
       "      <td>教員21</td>\n",
       "      <td>教員3</td>\n",
       "      <td>教員3</td>\n",
       "    </tr>\n",
       "    <tr>\n",
       "      <th>6</th>\n",
       "      <td>2</td>\n",
       "      <td>2</td>\n",
       "      <td>教員7</td>\n",
       "      <td>教員10</td>\n",
       "      <td>教員16</td>\n",
       "      <td>教員12</td>\n",
       "      <td>教員19</td>\n",
       "      <td>教員0</td>\n",
       "      <td>教員1</td>\n",
       "      <td>教員3</td>\n",
       "      <td>教員5</td>\n",
       "      <td>教員21</td>\n",
       "      <td>教員19</td>\n",
       "      <td>教員19</td>\n",
       "    </tr>\n",
       "    <tr>\n",
       "      <th>7</th>\n",
       "      <td>2</td>\n",
       "      <td>3</td>\n",
       "      <td>教員7</td>\n",
       "      <td>教員10</td>\n",
       "      <td>教員16</td>\n",
       "      <td>教員12</td>\n",
       "      <td>教員19</td>\n",
       "      <td>教員0</td>\n",
       "      <td>教員1</td>\n",
       "      <td>教員3</td>\n",
       "      <td>教員5</td>\n",
       "      <td>教員21</td>\n",
       "      <td>教員10</td>\n",
       "      <td>教員10</td>\n",
       "    </tr>\n",
       "    <tr>\n",
       "      <th>8</th>\n",
       "      <td>2</td>\n",
       "      <td>4</td>\n",
       "      <td>教員7</td>\n",
       "      <td>教員10</td>\n",
       "      <td>教員16</td>\n",
       "      <td>教員12</td>\n",
       "      <td>教員19</td>\n",
       "      <td>教員0</td>\n",
       "      <td>教員1</td>\n",
       "      <td>教員3</td>\n",
       "      <td>教員5</td>\n",
       "      <td>教員21</td>\n",
       "      <td>教員7</td>\n",
       "      <td>教員7</td>\n",
       "    </tr>\n",
       "    <tr>\n",
       "      <th>9</th>\n",
       "      <td>1</td>\n",
       "      <td>1</td>\n",
       "      <td>教員8</td>\n",
       "      <td>教員11</td>\n",
       "      <td>教員17</td>\n",
       "      <td>教員13</td>\n",
       "      <td>教員20</td>\n",
       "      <td>教員0</td>\n",
       "      <td>教員1</td>\n",
       "      <td>教員4</td>\n",
       "      <td>教員5</td>\n",
       "      <td>教員21</td>\n",
       "      <td>教員11</td>\n",
       "      <td>教員11</td>\n",
       "    </tr>\n",
       "    <tr>\n",
       "      <th>10</th>\n",
       "      <td>1</td>\n",
       "      <td>2</td>\n",
       "      <td>教員8</td>\n",
       "      <td>教員11</td>\n",
       "      <td>教員17</td>\n",
       "      <td>教員13</td>\n",
       "      <td>教員20</td>\n",
       "      <td>教員0</td>\n",
       "      <td>教員1</td>\n",
       "      <td>教員4</td>\n",
       "      <td>教員5</td>\n",
       "      <td>教員21</td>\n",
       "      <td>教員17</td>\n",
       "      <td>教員17</td>\n",
       "    </tr>\n",
       "    <tr>\n",
       "      <th>11</th>\n",
       "      <td>1</td>\n",
       "      <td>3</td>\n",
       "      <td>教員8</td>\n",
       "      <td>教員11</td>\n",
       "      <td>教員17</td>\n",
       "      <td>教員14</td>\n",
       "      <td>教員20</td>\n",
       "      <td>教員0</td>\n",
       "      <td>教員1</td>\n",
       "      <td>教員4</td>\n",
       "      <td>教員5</td>\n",
       "      <td>教員21</td>\n",
       "      <td>教員14</td>\n",
       "      <td>教員14</td>\n",
       "    </tr>\n",
       "    <tr>\n",
       "      <th>12</th>\n",
       "      <td>1</td>\n",
       "      <td>4</td>\n",
       "      <td>教員8</td>\n",
       "      <td>教員11</td>\n",
       "      <td>教員17</td>\n",
       "      <td>教員14</td>\n",
       "      <td>教員20</td>\n",
       "      <td>教員0</td>\n",
       "      <td>教員1</td>\n",
       "      <td>教員4</td>\n",
       "      <td>教員5</td>\n",
       "      <td>教員21</td>\n",
       "      <td>教員8</td>\n",
       "      <td>教員8</td>\n",
       "    </tr>\n",
       "  </tbody>\n",
       "</table>\n",
       "</div>"
      ],
      "text/plain": [
       "    gr  cl   英語    数学    国語    理科    社会   美術   音楽   体育   技術   家庭科    総合    道徳\n",
       "0    3   1  教員6   教員9  教員15  教員14  教員18  教員0  教員1  教員2  教員5  教員21   教員9   教員9\n",
       "1    3   2  教員6   教員9  教員15  教員14  教員20  教員0  教員1  教員2  教員5  教員21   教員2   教員2\n",
       "2    3   3  教員6  教員11  教員15  教員13  教員18  教員0  教員1  教員2  教員5  教員21   教員6   教員6\n",
       "3    3   4  教員6   教員9  教員15  教員13  教員18  教員0  教員1  教員2  教員5  教員21  教員18  教員18\n",
       "4    3   5  教員6   教員9  教員15  教員13  教員18  教員0  教員1  教員2  教員5  教員21  教員15  教員15\n",
       "5    2   1  教員7  教員10  教員16  教員12  教員19  教員0  教員1  教員3  教員5  教員21   教員3   教員3\n",
       "6    2   2  教員7  教員10  教員16  教員12  教員19  教員0  教員1  教員3  教員5  教員21  教員19  教員19\n",
       "7    2   3  教員7  教員10  教員16  教員12  教員19  教員0  教員1  教員3  教員5  教員21  教員10  教員10\n",
       "8    2   4  教員7  教員10  教員16  教員12  教員19  教員0  教員1  教員3  教員5  教員21   教員7   教員7\n",
       "9    1   1  教員8  教員11  教員17  教員13  教員20  教員0  教員1  教員4  教員5  教員21  教員11  教員11\n",
       "10   1   2  教員8  教員11  教員17  教員13  教員20  教員0  教員1  教員4  教員5  教員21  教員17  教員17\n",
       "11   1   3  教員8  教員11  教員17  教員14  教員20  教員0  教員1  教員4  教員5  教員21  教員14  教員14\n",
       "12   1   4  教員8  教員11  教員17  教員14  教員20  教員0  教員1  教員4  教員5  教員21   教員8   教員8"
      ]
     },
     "execution_count": 7,
     "metadata": {},
     "output_type": "execute_result"
    }
   ],
   "source": [
    "lesson_df"
   ]
  },
  {
   "cell_type": "code",
   "execution_count": 8,
   "id": "3f118a38",
   "metadata": {},
   "outputs": [
    {
     "ename": "NameError",
     "evalue": "name 'week' is not defined",
     "output_type": "error",
     "traceback": [
      "\u001b[1;31m---------------------------------------------------------------------------\u001b[0m",
      "\u001b[1;31mNameError\u001b[0m                                 Traceback (most recent call last)",
      "Input \u001b[1;32mIn [8]\u001b[0m, in \u001b[0;36m<cell line: 1>\u001b[1;34m()\u001b[0m\n\u001b[1;32m----> 1\u001b[0m timetable_df \u001b[38;5;241m=\u001b[39m pd\u001b[38;5;241m.\u001b[39mDataFrame(index\u001b[38;5;241m=\u001b[39mperiod,columns\u001b[38;5;241m=\u001b[39m\u001b[43mweek\u001b[49m)\n\u001b[0;32m      2\u001b[0m \u001b[38;5;28;01mfor\u001b[39;00m i \u001b[38;5;129;01min\u001b[39;00m week:\n\u001b[0;32m      3\u001b[0m     timetable_df[i] \u001b[38;5;241m=\u001b[39m [[] \u001b[38;5;28;01mfor\u001b[39;00m i \u001b[38;5;129;01min\u001b[39;00m \u001b[38;5;28mrange\u001b[39m(\u001b[38;5;241m6\u001b[39m)]\n",
      "\u001b[1;31mNameError\u001b[0m: name 'week' is not defined"
     ]
    }
   ],
   "source": [
    "timetable_df = pd.DataFrame(index=period,columns=week)\n",
    "for i in week:\n",
    "    timetable_df[i] = [[] for i in range(6)]"
   ]
  },
  {
   "cell_type": "code",
   "execution_count": 9,
   "id": "81eabdb5",
   "metadata": {},
   "outputs": [
    {
     "ename": "NameError",
     "evalue": "name 'timetable_df' is not defined",
     "output_type": "error",
     "traceback": [
      "\u001b[1;31m---------------------------------------------------------------------------\u001b[0m",
      "\u001b[1;31mNameError\u001b[0m                                 Traceback (most recent call last)",
      "Input \u001b[1;32mIn [9]\u001b[0m, in \u001b[0;36m<cell line: 1>\u001b[1;34m()\u001b[0m\n\u001b[1;32m----> 1\u001b[0m \u001b[43mtimetable_df\u001b[49m\n",
      "\u001b[1;31mNameError\u001b[0m: name 'timetable_df' is not defined"
     ]
    }
   ],
   "source": [
    "timetable_df"
   ]
  },
  {
   "cell_type": "code",
   "execution_count": 10,
   "id": "20f35021",
   "metadata": {},
   "outputs": [],
   "source": [
    "#移動教室授業\n",
    "Classroom_mobility = [\"美術\",\"音楽\",\"体育\",\"技術\",\"家庭科\"]\n",
    "\n",
    "#6時限目に行う且つ学年で同時に行う授業\n",
    "six_period = [\"総合\",\"道徳\"]"
   ]
  },
  {
   "cell_type": "code",
   "execution_count": 11,
   "id": "9bbbeec8",
   "metadata": {},
   "outputs": [
    {
     "ename": "FileNotFoundError",
     "evalue": "[Errno 2] No such file or directory: './number.csv'",
     "output_type": "error",
     "traceback": [
      "\u001b[1;31m---------------------------------------------------------------------------\u001b[0m",
      "\u001b[1;31mFileNotFoundError\u001b[0m                         Traceback (most recent call last)",
      "Input \u001b[1;32mIn [11]\u001b[0m, in \u001b[0;36m<cell line: 1>\u001b[1;34m()\u001b[0m\n\u001b[1;32m----> 1\u001b[0m subject_df \u001b[38;5;241m=\u001b[39m \u001b[43mpd\u001b[49m\u001b[38;5;241;43m.\u001b[39;49m\u001b[43mread_csv\u001b[49m\u001b[43m(\u001b[49m\u001b[38;5;124;43m\"\u001b[39;49m\u001b[38;5;124;43m./number.csv\u001b[39;49m\u001b[38;5;124;43m\"\u001b[39;49m\u001b[43m)\u001b[49m\n",
      "File \u001b[1;32m~\\anaconda3\\lib\\site-packages\\pandas\\util\\_decorators.py:311\u001b[0m, in \u001b[0;36mdeprecate_nonkeyword_arguments.<locals>.decorate.<locals>.wrapper\u001b[1;34m(*args, **kwargs)\u001b[0m\n\u001b[0;32m    305\u001b[0m \u001b[38;5;28;01mif\u001b[39;00m \u001b[38;5;28mlen\u001b[39m(args) \u001b[38;5;241m>\u001b[39m num_allow_args:\n\u001b[0;32m    306\u001b[0m     warnings\u001b[38;5;241m.\u001b[39mwarn(\n\u001b[0;32m    307\u001b[0m         msg\u001b[38;5;241m.\u001b[39mformat(arguments\u001b[38;5;241m=\u001b[39marguments),\n\u001b[0;32m    308\u001b[0m         \u001b[38;5;167;01mFutureWarning\u001b[39;00m,\n\u001b[0;32m    309\u001b[0m         stacklevel\u001b[38;5;241m=\u001b[39mstacklevel,\n\u001b[0;32m    310\u001b[0m     )\n\u001b[1;32m--> 311\u001b[0m \u001b[38;5;28;01mreturn\u001b[39;00m func(\u001b[38;5;241m*\u001b[39margs, \u001b[38;5;241m*\u001b[39m\u001b[38;5;241m*\u001b[39mkwargs)\n",
      "File \u001b[1;32m~\\anaconda3\\lib\\site-packages\\pandas\\io\\parsers\\readers.py:680\u001b[0m, in \u001b[0;36mread_csv\u001b[1;34m(filepath_or_buffer, sep, delimiter, header, names, index_col, usecols, squeeze, prefix, mangle_dupe_cols, dtype, engine, converters, true_values, false_values, skipinitialspace, skiprows, skipfooter, nrows, na_values, keep_default_na, na_filter, verbose, skip_blank_lines, parse_dates, infer_datetime_format, keep_date_col, date_parser, dayfirst, cache_dates, iterator, chunksize, compression, thousands, decimal, lineterminator, quotechar, quoting, doublequote, escapechar, comment, encoding, encoding_errors, dialect, error_bad_lines, warn_bad_lines, on_bad_lines, delim_whitespace, low_memory, memory_map, float_precision, storage_options)\u001b[0m\n\u001b[0;32m    665\u001b[0m kwds_defaults \u001b[38;5;241m=\u001b[39m _refine_defaults_read(\n\u001b[0;32m    666\u001b[0m     dialect,\n\u001b[0;32m    667\u001b[0m     delimiter,\n\u001b[1;32m   (...)\u001b[0m\n\u001b[0;32m    676\u001b[0m     defaults\u001b[38;5;241m=\u001b[39m{\u001b[38;5;124m\"\u001b[39m\u001b[38;5;124mdelimiter\u001b[39m\u001b[38;5;124m\"\u001b[39m: \u001b[38;5;124m\"\u001b[39m\u001b[38;5;124m,\u001b[39m\u001b[38;5;124m\"\u001b[39m},\n\u001b[0;32m    677\u001b[0m )\n\u001b[0;32m    678\u001b[0m kwds\u001b[38;5;241m.\u001b[39mupdate(kwds_defaults)\n\u001b[1;32m--> 680\u001b[0m \u001b[38;5;28;01mreturn\u001b[39;00m \u001b[43m_read\u001b[49m\u001b[43m(\u001b[49m\u001b[43mfilepath_or_buffer\u001b[49m\u001b[43m,\u001b[49m\u001b[43m \u001b[49m\u001b[43mkwds\u001b[49m\u001b[43m)\u001b[49m\n",
      "File \u001b[1;32m~\\anaconda3\\lib\\site-packages\\pandas\\io\\parsers\\readers.py:575\u001b[0m, in \u001b[0;36m_read\u001b[1;34m(filepath_or_buffer, kwds)\u001b[0m\n\u001b[0;32m    572\u001b[0m _validate_names(kwds\u001b[38;5;241m.\u001b[39mget(\u001b[38;5;124m\"\u001b[39m\u001b[38;5;124mnames\u001b[39m\u001b[38;5;124m\"\u001b[39m, \u001b[38;5;28;01mNone\u001b[39;00m))\n\u001b[0;32m    574\u001b[0m \u001b[38;5;66;03m# Create the parser.\u001b[39;00m\n\u001b[1;32m--> 575\u001b[0m parser \u001b[38;5;241m=\u001b[39m TextFileReader(filepath_or_buffer, \u001b[38;5;241m*\u001b[39m\u001b[38;5;241m*\u001b[39mkwds)\n\u001b[0;32m    577\u001b[0m \u001b[38;5;28;01mif\u001b[39;00m chunksize \u001b[38;5;129;01mor\u001b[39;00m iterator:\n\u001b[0;32m    578\u001b[0m     \u001b[38;5;28;01mreturn\u001b[39;00m parser\n",
      "File \u001b[1;32m~\\anaconda3\\lib\\site-packages\\pandas\\io\\parsers\\readers.py:933\u001b[0m, in \u001b[0;36mTextFileReader.__init__\u001b[1;34m(self, f, engine, **kwds)\u001b[0m\n\u001b[0;32m    930\u001b[0m     \u001b[38;5;28mself\u001b[39m\u001b[38;5;241m.\u001b[39moptions[\u001b[38;5;124m\"\u001b[39m\u001b[38;5;124mhas_index_names\u001b[39m\u001b[38;5;124m\"\u001b[39m] \u001b[38;5;241m=\u001b[39m kwds[\u001b[38;5;124m\"\u001b[39m\u001b[38;5;124mhas_index_names\u001b[39m\u001b[38;5;124m\"\u001b[39m]\n\u001b[0;32m    932\u001b[0m \u001b[38;5;28mself\u001b[39m\u001b[38;5;241m.\u001b[39mhandles: IOHandles \u001b[38;5;241m|\u001b[39m \u001b[38;5;28;01mNone\u001b[39;00m \u001b[38;5;241m=\u001b[39m \u001b[38;5;28;01mNone\u001b[39;00m\n\u001b[1;32m--> 933\u001b[0m \u001b[38;5;28mself\u001b[39m\u001b[38;5;241m.\u001b[39m_engine \u001b[38;5;241m=\u001b[39m \u001b[38;5;28;43mself\u001b[39;49m\u001b[38;5;241;43m.\u001b[39;49m\u001b[43m_make_engine\u001b[49m\u001b[43m(\u001b[49m\u001b[43mf\u001b[49m\u001b[43m,\u001b[49m\u001b[43m \u001b[49m\u001b[38;5;28;43mself\u001b[39;49m\u001b[38;5;241;43m.\u001b[39;49m\u001b[43mengine\u001b[49m\u001b[43m)\u001b[49m\n",
      "File \u001b[1;32m~\\anaconda3\\lib\\site-packages\\pandas\\io\\parsers\\readers.py:1217\u001b[0m, in \u001b[0;36mTextFileReader._make_engine\u001b[1;34m(self, f, engine)\u001b[0m\n\u001b[0;32m   1213\u001b[0m     mode \u001b[38;5;241m=\u001b[39m \u001b[38;5;124m\"\u001b[39m\u001b[38;5;124mrb\u001b[39m\u001b[38;5;124m\"\u001b[39m\n\u001b[0;32m   1214\u001b[0m \u001b[38;5;66;03m# error: No overload variant of \"get_handle\" matches argument types\u001b[39;00m\n\u001b[0;32m   1215\u001b[0m \u001b[38;5;66;03m# \"Union[str, PathLike[str], ReadCsvBuffer[bytes], ReadCsvBuffer[str]]\"\u001b[39;00m\n\u001b[0;32m   1216\u001b[0m \u001b[38;5;66;03m# , \"str\", \"bool\", \"Any\", \"Any\", \"Any\", \"Any\", \"Any\"\u001b[39;00m\n\u001b[1;32m-> 1217\u001b[0m \u001b[38;5;28mself\u001b[39m\u001b[38;5;241m.\u001b[39mhandles \u001b[38;5;241m=\u001b[39m \u001b[43mget_handle\u001b[49m\u001b[43m(\u001b[49m\u001b[43m  \u001b[49m\u001b[38;5;66;43;03m# type: ignore[call-overload]\u001b[39;49;00m\n\u001b[0;32m   1218\u001b[0m \u001b[43m    \u001b[49m\u001b[43mf\u001b[49m\u001b[43m,\u001b[49m\n\u001b[0;32m   1219\u001b[0m \u001b[43m    \u001b[49m\u001b[43mmode\u001b[49m\u001b[43m,\u001b[49m\n\u001b[0;32m   1220\u001b[0m \u001b[43m    \u001b[49m\u001b[43mencoding\u001b[49m\u001b[38;5;241;43m=\u001b[39;49m\u001b[38;5;28;43mself\u001b[39;49m\u001b[38;5;241;43m.\u001b[39;49m\u001b[43moptions\u001b[49m\u001b[38;5;241;43m.\u001b[39;49m\u001b[43mget\u001b[49m\u001b[43m(\u001b[49m\u001b[38;5;124;43m\"\u001b[39;49m\u001b[38;5;124;43mencoding\u001b[39;49m\u001b[38;5;124;43m\"\u001b[39;49m\u001b[43m,\u001b[49m\u001b[43m \u001b[49m\u001b[38;5;28;43;01mNone\u001b[39;49;00m\u001b[43m)\u001b[49m\u001b[43m,\u001b[49m\n\u001b[0;32m   1221\u001b[0m \u001b[43m    \u001b[49m\u001b[43mcompression\u001b[49m\u001b[38;5;241;43m=\u001b[39;49m\u001b[38;5;28;43mself\u001b[39;49m\u001b[38;5;241;43m.\u001b[39;49m\u001b[43moptions\u001b[49m\u001b[38;5;241;43m.\u001b[39;49m\u001b[43mget\u001b[49m\u001b[43m(\u001b[49m\u001b[38;5;124;43m\"\u001b[39;49m\u001b[38;5;124;43mcompression\u001b[39;49m\u001b[38;5;124;43m\"\u001b[39;49m\u001b[43m,\u001b[49m\u001b[43m \u001b[49m\u001b[38;5;28;43;01mNone\u001b[39;49;00m\u001b[43m)\u001b[49m\u001b[43m,\u001b[49m\n\u001b[0;32m   1222\u001b[0m \u001b[43m    \u001b[49m\u001b[43mmemory_map\u001b[49m\u001b[38;5;241;43m=\u001b[39;49m\u001b[38;5;28;43mself\u001b[39;49m\u001b[38;5;241;43m.\u001b[39;49m\u001b[43moptions\u001b[49m\u001b[38;5;241;43m.\u001b[39;49m\u001b[43mget\u001b[49m\u001b[43m(\u001b[49m\u001b[38;5;124;43m\"\u001b[39;49m\u001b[38;5;124;43mmemory_map\u001b[39;49m\u001b[38;5;124;43m\"\u001b[39;49m\u001b[43m,\u001b[49m\u001b[43m \u001b[49m\u001b[38;5;28;43;01mFalse\u001b[39;49;00m\u001b[43m)\u001b[49m\u001b[43m,\u001b[49m\n\u001b[0;32m   1223\u001b[0m \u001b[43m    \u001b[49m\u001b[43mis_text\u001b[49m\u001b[38;5;241;43m=\u001b[39;49m\u001b[43mis_text\u001b[49m\u001b[43m,\u001b[49m\n\u001b[0;32m   1224\u001b[0m \u001b[43m    \u001b[49m\u001b[43merrors\u001b[49m\u001b[38;5;241;43m=\u001b[39;49m\u001b[38;5;28;43mself\u001b[39;49m\u001b[38;5;241;43m.\u001b[39;49m\u001b[43moptions\u001b[49m\u001b[38;5;241;43m.\u001b[39;49m\u001b[43mget\u001b[49m\u001b[43m(\u001b[49m\u001b[38;5;124;43m\"\u001b[39;49m\u001b[38;5;124;43mencoding_errors\u001b[39;49m\u001b[38;5;124;43m\"\u001b[39;49m\u001b[43m,\u001b[49m\u001b[43m \u001b[49m\u001b[38;5;124;43m\"\u001b[39;49m\u001b[38;5;124;43mstrict\u001b[39;49m\u001b[38;5;124;43m\"\u001b[39;49m\u001b[43m)\u001b[49m\u001b[43m,\u001b[49m\n\u001b[0;32m   1225\u001b[0m \u001b[43m    \u001b[49m\u001b[43mstorage_options\u001b[49m\u001b[38;5;241;43m=\u001b[39;49m\u001b[38;5;28;43mself\u001b[39;49m\u001b[38;5;241;43m.\u001b[39;49m\u001b[43moptions\u001b[49m\u001b[38;5;241;43m.\u001b[39;49m\u001b[43mget\u001b[49m\u001b[43m(\u001b[49m\u001b[38;5;124;43m\"\u001b[39;49m\u001b[38;5;124;43mstorage_options\u001b[39;49m\u001b[38;5;124;43m\"\u001b[39;49m\u001b[43m,\u001b[49m\u001b[43m \u001b[49m\u001b[38;5;28;43;01mNone\u001b[39;49;00m\u001b[43m)\u001b[49m\u001b[43m,\u001b[49m\n\u001b[0;32m   1226\u001b[0m \u001b[43m\u001b[49m\u001b[43m)\u001b[49m\n\u001b[0;32m   1227\u001b[0m \u001b[38;5;28;01massert\u001b[39;00m \u001b[38;5;28mself\u001b[39m\u001b[38;5;241m.\u001b[39mhandles \u001b[38;5;129;01mis\u001b[39;00m \u001b[38;5;129;01mnot\u001b[39;00m \u001b[38;5;28;01mNone\u001b[39;00m\n\u001b[0;32m   1228\u001b[0m f \u001b[38;5;241m=\u001b[39m \u001b[38;5;28mself\u001b[39m\u001b[38;5;241m.\u001b[39mhandles\u001b[38;5;241m.\u001b[39mhandle\n",
      "File \u001b[1;32m~\\anaconda3\\lib\\site-packages\\pandas\\io\\common.py:789\u001b[0m, in \u001b[0;36mget_handle\u001b[1;34m(path_or_buf, mode, encoding, compression, memory_map, is_text, errors, storage_options)\u001b[0m\n\u001b[0;32m    784\u001b[0m \u001b[38;5;28;01melif\u001b[39;00m \u001b[38;5;28misinstance\u001b[39m(handle, \u001b[38;5;28mstr\u001b[39m):\n\u001b[0;32m    785\u001b[0m     \u001b[38;5;66;03m# Check whether the filename is to be opened in binary mode.\u001b[39;00m\n\u001b[0;32m    786\u001b[0m     \u001b[38;5;66;03m# Binary mode does not support 'encoding' and 'newline'.\u001b[39;00m\n\u001b[0;32m    787\u001b[0m     \u001b[38;5;28;01mif\u001b[39;00m ioargs\u001b[38;5;241m.\u001b[39mencoding \u001b[38;5;129;01mand\u001b[39;00m \u001b[38;5;124m\"\u001b[39m\u001b[38;5;124mb\u001b[39m\u001b[38;5;124m\"\u001b[39m \u001b[38;5;129;01mnot\u001b[39;00m \u001b[38;5;129;01min\u001b[39;00m ioargs\u001b[38;5;241m.\u001b[39mmode:\n\u001b[0;32m    788\u001b[0m         \u001b[38;5;66;03m# Encoding\u001b[39;00m\n\u001b[1;32m--> 789\u001b[0m         handle \u001b[38;5;241m=\u001b[39m \u001b[38;5;28;43mopen\u001b[39;49m\u001b[43m(\u001b[49m\n\u001b[0;32m    790\u001b[0m \u001b[43m            \u001b[49m\u001b[43mhandle\u001b[49m\u001b[43m,\u001b[49m\n\u001b[0;32m    791\u001b[0m \u001b[43m            \u001b[49m\u001b[43mioargs\u001b[49m\u001b[38;5;241;43m.\u001b[39;49m\u001b[43mmode\u001b[49m\u001b[43m,\u001b[49m\n\u001b[0;32m    792\u001b[0m \u001b[43m            \u001b[49m\u001b[43mencoding\u001b[49m\u001b[38;5;241;43m=\u001b[39;49m\u001b[43mioargs\u001b[49m\u001b[38;5;241;43m.\u001b[39;49m\u001b[43mencoding\u001b[49m\u001b[43m,\u001b[49m\n\u001b[0;32m    793\u001b[0m \u001b[43m            \u001b[49m\u001b[43merrors\u001b[49m\u001b[38;5;241;43m=\u001b[39;49m\u001b[43merrors\u001b[49m\u001b[43m,\u001b[49m\n\u001b[0;32m    794\u001b[0m \u001b[43m            \u001b[49m\u001b[43mnewline\u001b[49m\u001b[38;5;241;43m=\u001b[39;49m\u001b[38;5;124;43m\"\u001b[39;49m\u001b[38;5;124;43m\"\u001b[39;49m\u001b[43m,\u001b[49m\n\u001b[0;32m    795\u001b[0m \u001b[43m        \u001b[49m\u001b[43m)\u001b[49m\n\u001b[0;32m    796\u001b[0m     \u001b[38;5;28;01melse\u001b[39;00m:\n\u001b[0;32m    797\u001b[0m         \u001b[38;5;66;03m# Binary mode\u001b[39;00m\n\u001b[0;32m    798\u001b[0m         handle \u001b[38;5;241m=\u001b[39m \u001b[38;5;28mopen\u001b[39m(handle, ioargs\u001b[38;5;241m.\u001b[39mmode)\n",
      "\u001b[1;31mFileNotFoundError\u001b[0m: [Errno 2] No such file or directory: './number.csv'"
     ]
    }
   ],
   "source": [
    "subject_df = pd.read_csv(\"./number.csv\")"
   ]
  },
  {
   "cell_type": "code",
   "execution_count": null,
   "id": "754713ae",
   "metadata": {},
   "outputs": [],
   "source": [
    "subject_dict = {subject_df[\"subject\"][i]:subject_df[\"n\"][i] for i in range(subject_df.shape[0])}"
   ]
  },
  {
   "cell_type": "code",
   "execution_count": null,
   "id": "4713bd9a",
   "metadata": {},
   "outputs": [],
   "source": [
    "model = pulp.LpProblem(\"model\",pulp.LpMinimize)\n",
    "week = [\"月\",\"火\",\"水\",\"木\",\"金\"]\n",
    "x = {}\n",
    "y = {}\n",
    "grade_list = lesson_df[\"gr\"].unique()\n",
    "#x_曜日_時限_学年_クラス_授業\n",
    "for i in week:\n",
    "    x[i] = {}\n",
    "    for j in period:\n",
    "        x[i][j] = {}\n",
    "        for k in grade_list:\n",
    "            x[i][j][k] = {}\n",
    "            for l in class_dict[k]:\n",
    "                x[i][j][k][l] = {}\n",
    "                for m in subject_list:\n",
    "                    x[i][j][k][l][m] = pulp.LpVariable(cat=\"Binary\",name=f\"x_{i}_{j}_{k}_{l}_{m}\")\n",
    "\n",
    "#y_曜日_時限_教員\n",
    "for i in week:\n",
    "    y[i] = {}\n",
    "    for j in period:\n",
    "        y[i][j] = {}\n",
    "        for n in teacher_list:\n",
    "            y[i][j][n] = pulp.LpVariable(cat=\"Binary\",name=f\"y_{i}_{j}_{n}\")"
   ]
  },
  {
   "cell_type": "markdown",
   "id": "7ed9c335",
   "metadata": {},
   "source": [
    "クラス基本制約<br>\n",
    "(1) 1 つの時限では必ず 1 つ授業を行う<br>\n",
    "教科制約<br>\n",
    "(2) 各教科は必要授業数だけ行う<br>\n",
    "(3) 各教科は 1 日の授業数の上下限を守る<br>\n",
    "(4) 総合、体育など時限に制約のある教科の制約\n",
    "移動教室は連続しない、総合と道徳は6限で学年で行う\n",
    "\n",
    "教員制約<br>\n",
    "(5) 1 教員が行う授業は可能時限に対し 1 つだけである<br>\n",
    "(6) 1 教員が 1 日に行う授業数の上下限を守る<br>"
   ]
  },
  {
   "cell_type": "code",
   "execution_count": null,
   "id": "1632408a",
   "metadata": {},
   "outputs": [],
   "source": [
    "#(1)\n",
    "for i in week:\n",
    "    for j in period:\n",
    "        for k in grade_list:\n",
    "            for l in class_dict[k]:\n",
    "                model += pulp.lpSum([x[i][j][k][l][m] for m in subject_list]) == 1"
   ]
  },
  {
   "cell_type": "code",
   "execution_count": 12,
   "id": "bb8db729",
   "metadata": {},
   "outputs": [
    {
     "ename": "NameError",
     "evalue": "name 'grade_list' is not defined",
     "output_type": "error",
     "traceback": [
      "\u001b[1;31m---------------------------------------------------------------------------\u001b[0m",
      "\u001b[1;31mNameError\u001b[0m                                 Traceback (most recent call last)",
      "Input \u001b[1;32mIn [12]\u001b[0m, in \u001b[0;36m<cell line: 2>\u001b[1;34m()\u001b[0m\n\u001b[0;32m      1\u001b[0m \u001b[38;5;66;03m#(2)\u001b[39;00m\n\u001b[1;32m----> 2\u001b[0m \u001b[38;5;28;01mfor\u001b[39;00m k \u001b[38;5;129;01min\u001b[39;00m \u001b[43mgrade_list\u001b[49m:\n\u001b[0;32m      3\u001b[0m     \u001b[38;5;28;01mfor\u001b[39;00m l \u001b[38;5;129;01min\u001b[39;00m class_dict[k]:\n\u001b[0;32m      4\u001b[0m         \u001b[38;5;28;01mfor\u001b[39;00m m \u001b[38;5;129;01min\u001b[39;00m subject_list:\n",
      "\u001b[1;31mNameError\u001b[0m: name 'grade_list' is not defined"
     ]
    }
   ],
   "source": [
    "#(2)\n",
    "for k in grade_list:\n",
    "    for l in class_dict[k]:\n",
    "        for m in subject_list:\n",
    "            model += pulp.lpSum([x[i][j][k][l][m] for i in week for j in period]) == subject_dict[m]"
   ]
  },
  {
   "cell_type": "code",
   "execution_count": 13,
   "id": "ce51d78f",
   "metadata": {},
   "outputs": [
    {
     "ename": "NameError",
     "evalue": "name 'week' is not defined",
     "output_type": "error",
     "traceback": [
      "\u001b[1;31m---------------------------------------------------------------------------\u001b[0m",
      "\u001b[1;31mNameError\u001b[0m                                 Traceback (most recent call last)",
      "Input \u001b[1;32mIn [13]\u001b[0m, in \u001b[0;36m<cell line: 2>\u001b[1;34m()\u001b[0m\n\u001b[0;32m      1\u001b[0m \u001b[38;5;66;03m#(3)\u001b[39;00m\n\u001b[1;32m----> 2\u001b[0m \u001b[38;5;28;01mfor\u001b[39;00m i \u001b[38;5;129;01min\u001b[39;00m \u001b[43mweek\u001b[49m:\n\u001b[0;32m      3\u001b[0m     \u001b[38;5;28;01mfor\u001b[39;00m k \u001b[38;5;129;01min\u001b[39;00m grade_list:\n\u001b[0;32m      4\u001b[0m         \u001b[38;5;28;01mfor\u001b[39;00m l \u001b[38;5;129;01min\u001b[39;00m class_dict[k]:\n",
      "\u001b[1;31mNameError\u001b[0m: name 'week' is not defined"
     ]
    }
   ],
   "source": [
    "#(3)\n",
    "for i in week:\n",
    "    for k in grade_list:\n",
    "        for l in class_dict[k]:\n",
    "            for m in subject_list:\n",
    "                model += pulp.lpSum([x[i][j][k][l][m] for j in period]) <= 1"
   ]
  },
  {
   "cell_type": "code",
   "execution_count": 14,
   "id": "e51d5c8e",
   "metadata": {},
   "outputs": [
    {
     "ename": "NameError",
     "evalue": "name 'week' is not defined",
     "output_type": "error",
     "traceback": [
      "\u001b[1;31m---------------------------------------------------------------------------\u001b[0m",
      "\u001b[1;31mNameError\u001b[0m                                 Traceback (most recent call last)",
      "Input \u001b[1;32mIn [14]\u001b[0m, in \u001b[0;36m<cell line: 3>\u001b[1;34m()\u001b[0m\n\u001b[0;32m      1\u001b[0m \u001b[38;5;66;03m#(4)\u001b[39;00m\n\u001b[0;32m      2\u001b[0m \u001b[38;5;66;03m#移動教室は連続しない\u001b[39;00m\n\u001b[1;32m----> 3\u001b[0m \u001b[38;5;28;01mfor\u001b[39;00m i \u001b[38;5;129;01min\u001b[39;00m \u001b[43mweek\u001b[49m:\n\u001b[0;32m      4\u001b[0m     \u001b[38;5;28;01mfor\u001b[39;00m j \u001b[38;5;129;01min\u001b[39;00m period[:\u001b[38;5;241m5\u001b[39m]:\n\u001b[0;32m      5\u001b[0m         \u001b[38;5;28;01mfor\u001b[39;00m k \u001b[38;5;129;01min\u001b[39;00m grade_list:\n",
      "\u001b[1;31mNameError\u001b[0m: name 'week' is not defined"
     ]
    }
   ],
   "source": [
    "#(4)\n",
    "#移動教室は連続しない\n",
    "for i in week:\n",
    "    for j in period[:5]:\n",
    "        for k in grade_list:\n",
    "            for l in class_dict[k]:\n",
    "                model += pulp.lpSum([x[i][j][k][l][m] + x[i][j+1][k][l][m] for m in Classroom_mobility]) <= 1\n",
    "\n",
    "#総合と道徳は6限\n",
    "for i in week:\n",
    "    for j in period[:5]:\n",
    "        for k in grade_list:\n",
    "            for l in class_dict[k]:\n",
    "                model += pulp.lpSum([x[i][j][k][l][m] for m in six_period]) == 0\n",
    "\n",
    "#総合と道徳は学年で時限を統一する\n",
    "for i in week:\n",
    "    for k in grade_list:\n",
    "        for l in class_dict[k][:-1]:\n",
    "            for m in six_period:\n",
    "                model += x[i][6][k][l][m] == x[i][6][k][l+1][m]"
   ]
  },
  {
   "cell_type": "code",
   "execution_count": 176,
   "id": "bf93ba8b",
   "metadata": {},
   "outputs": [],
   "source": [
    "#yをxの関数として定義 y=f(x)\n",
    "for i in week:\n",
    "    for j in period:\n",
    "        for k in grade_list:\n",
    "            for l in class_dict[k]:\n",
    "                for m in subject_list:\n",
    "                    df = lesson_df[lesson_df[\"gr\"] == k]\n",
    "                    n = df[df[\"cl\"] == l][m].values[0]\n",
    "                    y[i][j][n] += x[i][j][k][l][m]"
   ]
  },
  {
   "cell_type": "code",
   "execution_count": null,
   "id": "b51554ee",
   "metadata": {},
   "outputs": [],
   "source": []
  },
  {
   "cell_type": "code",
   "execution_count": 177,
   "id": "47dad05e",
   "metadata": {},
   "outputs": [],
   "source": [
    "#(5)\n",
    "for i in week:\n",
    "    for j in period:\n",
    "        for n in teacher_list:\n",
    "            model += y[i][j][n] <= 1"
   ]
  },
  {
   "cell_type": "code",
   "execution_count": 178,
   "id": "4315a20b",
   "metadata": {},
   "outputs": [],
   "source": [
    "#(6)\n",
    "for i in week:\n",
    "    for n in teacher_list:\n",
    "        model += pulp.lpSum([y[i][j][n] for j in period]) <= 6\n",
    "        model += pulp.lpSum([y[i][j][n] for j in period]) >= 4"
   ]
  },
  {
   "cell_type": "code",
   "execution_count": 179,
   "id": "53638779",
   "metadata": {},
   "outputs": [
    {
     "data": {
      "text/plain": [
       "1"
      ]
     },
     "execution_count": 179,
     "metadata": {},
     "output_type": "execute_result"
    }
   ],
   "source": [
    "model.solve()"
   ]
  },
  {
   "cell_type": "code",
   "execution_count": 163,
   "id": "92843ada",
   "metadata": {},
   "outputs": [],
   "source": [
    "def export_table(g,c):\n",
    "    timetable_df = pd.DataFrame(index=period,columns=week)\n",
    "    for i in week:\n",
    "        timetable_df[i] = [[] for i in range(6)]\n",
    "    \n",
    "    for i in week:\n",
    "        for j in period:\n",
    "            for m in subject_list:\n",
    "                if x[i][j][g][c][m].value() >= 1.0:\n",
    "                    timetable_df[i][j].append(m)\n",
    "\n",
    "    print(timetable_df)"
   ]
  },
  {
   "cell_type": "code",
   "execution_count": 164,
   "id": "9788eaed",
   "metadata": {},
   "outputs": [
    {
     "name": "stdout",
     "output_type": "stream",
     "text": [
      "      月      火     水     木     金\n",
      "1  [社会]   [英語]  [理科]  [数学]  [国語]\n",
      "2  [音楽]  [家庭科]  [数学]  [国語]  [英語]\n",
      "3  [国語]   [理科]  [美術]  [英語]  [数学]\n",
      "4  [体育]   [国語]  [英語]  [技術]  [社会]\n",
      "5  [数学]   [音楽]  [社会]  [社会]  [美術]\n",
      "6  [総合]   [道徳]  [体育]  [理科]  [理科]\n"
     ]
    }
   ],
   "source": [
    "export_table(2,4)"
   ]
  },
  {
   "cell_type": "code",
   "execution_count": 165,
   "id": "145c4929",
   "metadata": {},
   "outputs": [
    {
     "name": "stdout",
     "output_type": "stream",
     "text": [
      "      月     火     水      木     金\n",
      "1  [英語]  [理科]  [英語]   [理科]  [技術]\n",
      "2  [数学]  [音楽]  [音楽]   [美術]  [数学]\n",
      "3  [体育]  [社会]  [社会]   [数学]  [美術]\n",
      "4  [国語]  [英語]  [理科]   [社会]  [理科]\n",
      "5  [社会]  [国語]  [国語]   [英語]  [国語]\n",
      "6  [総合]  [道徳]  [数学]  [家庭科]  [体育]\n"
     ]
    }
   ],
   "source": [
    "export_table(2,1)"
   ]
  },
  {
   "cell_type": "code",
   "execution_count": 166,
   "id": "19a5deba",
   "metadata": {},
   "outputs": [
    {
     "name": "stdout",
     "output_type": "stream",
     "text": [
      "      月     火     水     木      金\n",
      "1  [国語]  [数学]  [理科]  [音楽]   [理科]\n",
      "2  [英語]  [理科]  [体育]  [国語]  [家庭科]\n",
      "3  [音楽]  [英語]  [数学]  [英語]   [社会]\n",
      "4  [理科]  [国語]  [英語]  [社会]   [美術]\n",
      "5  [社会]  [技術]  [社会]  [体育]   [数学]\n",
      "6  [総合]  [道徳]  [美術]  [数学]   [国語]\n"
     ]
    }
   ],
   "source": [
    "export_table(1,1)"
   ]
  },
  {
   "cell_type": "code",
   "execution_count": 1,
   "id": "4cd1f72d",
   "metadata": {},
   "outputs": [
    {
     "ename": "NameError",
     "evalue": "name 'export_table' is not defined",
     "output_type": "error",
     "traceback": [
      "\u001b[1;31m---------------------------------------------------------------------------\u001b[0m",
      "\u001b[1;31mNameError\u001b[0m                                 Traceback (most recent call last)",
      "Input \u001b[1;32mIn [1]\u001b[0m, in \u001b[0;36m<cell line: 1>\u001b[1;34m()\u001b[0m\n\u001b[1;32m----> 1\u001b[0m \u001b[43mexport_table\u001b[49m(\u001b[38;5;241m3\u001b[39m,\u001b[38;5;241m4\u001b[39m)\n",
      "\u001b[1;31mNameError\u001b[0m: name 'export_table' is not defined"
     ]
    }
   ],
   "source": [
    "export_table(3,4)"
   ]
  },
  {
   "cell_type": "code",
   "execution_count": 169,
   "id": "0e3adefb",
   "metadata": {},
   "outputs": [
    {
     "data": {
      "text/plain": [
       "[1.0, 1.0, 1.0, 0.0, 1.0, 1.0]"
      ]
     },
     "execution_count": 169,
     "metadata": {},
     "output_type": "execute_result"
    }
   ],
   "source": [
    "[y['月'][j][teacher_list[8]].value() for j in period]"
   ]
  },
  {
   "cell_type": "code",
   "execution_count": null,
   "id": "77ec1771",
   "metadata": {},
   "outputs": [],
   "source": []
  }
 ],
 "metadata": {
  "kernelspec": {
   "display_name": "Python 3 (ipykernel)",
   "language": "python",
   "name": "python3"
  },
  "language_info": {
   "codemirror_mode": {
    "name": "ipython",
    "version": 3
   },
   "file_extension": ".py",
   "mimetype": "text/x-python",
   "name": "python",
   "nbconvert_exporter": "python",
   "pygments_lexer": "ipython3",
   "version": "3.9.12"
  }
 },
 "nbformat": 4,
 "nbformat_minor": 5
}
