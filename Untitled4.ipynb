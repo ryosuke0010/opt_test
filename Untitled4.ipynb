{
 "cells": [
  {
   "cell_type": "code",
   "execution_count": 26,
   "id": "afea66ac",
   "metadata": {},
   "outputs": [],
   "source": [
    "import pandas as pd\n",
    "import numpy as np\n",
    "import pulp"
   ]
  },
  {
   "cell_type": "code",
   "execution_count": 28,
   "id": "ed223a7a",
   "metadata": {},
   "outputs": [],
   "source": [
    "teacher_list = [f'教員{i}' for i in range(22)]\n",
    "subject_list = [\"英語\",\"数学\",\"国語\",\"理科\",\"社会\",\"美術\",\"音楽\",\"体育\",\"技術\",\"家庭科\",\"総合\",\"道徳\"]\n",
    "class_dict = {3:[1,2,3,4,5],2:[1,2,3,4],1:[1,2,3,4]}"
   ]
  },
  {
   "cell_type": "code",
   "execution_count": 48,
   "id": "394f2ea5",
   "metadata": {},
   "outputs": [],
   "source": [
    "teacher_dict = {t:g for t,g in zip(teacher_list,[3,3,3,2,1,1,3,2,1,3,2,1,2,1,1,3,2,1,3,2,3,2])}"
   ]
  },
  {
   "cell_type": "code",
   "execution_count": 29,
   "id": "2c6ead86",
   "metadata": {},
   "outputs": [],
   "source": [
    "lesson_df = pd.read_csv(\"./構成.csv\")"
   ]
  },
  {
   "cell_type": "code",
   "execution_count": 30,
   "id": "22ccdcda",
   "metadata": {},
   "outputs": [],
   "source": [
    "period = [1,2,3,4,5,6]\n",
    "week = [\"月\",\"火\",\"水\",\"木\",\"金\"]"
   ]
  },
  {
   "cell_type": "code",
   "execution_count": 32,
   "id": "3f118a38",
   "metadata": {},
   "outputs": [],
   "source": [
    "timetable_df = pd.DataFrame(index=period,columns=week)\n",
    "for i in week:\n",
    "    timetable_df[i] = [[] for i in range(6)]"
   ]
  },
  {
   "cell_type": "code",
   "execution_count": 34,
   "id": "20f35021",
   "metadata": {},
   "outputs": [],
   "source": [
    "#移動教室授業\n",
    "Classroom_mobility = [\"美術\",\"音楽\",\"体育\",\"技術\",\"家庭科\"]\n",
    "\n",
    "#6時限目に行う且つ学年で同時に行う授業\n",
    "six_period = [\"総合\",\"道徳\"]"
   ]
  },
  {
   "cell_type": "code",
   "execution_count": 35,
   "id": "9bbbeec8",
   "metadata": {},
   "outputs": [],
   "source": [
    "subject_df = pd.read_csv(\"./number.csv\")"
   ]
  },
  {
   "cell_type": "code",
   "execution_count": 36,
   "id": "754713ae",
   "metadata": {},
   "outputs": [],
   "source": [
    "subject_dict = {subject_df[\"subject\"][i]:subject_df[\"n\"][i] for i in range(subject_df.shape[0])}"
   ]
  },
  {
   "cell_type": "code",
   "execution_count": 147,
   "id": "4713bd9a",
   "metadata": {},
   "outputs": [],
   "source": [
    "model = pulp.LpProblem(\"model\",pulp.LpMinimize)\n",
    "x = {}\n",
    "y = {}\n",
    "z = {}\n",
    "#x_曜日_時限_学年_クラス_授業\n",
    "for d in week:\n",
    "    for p in period:\n",
    "        for g in grade_list:\n",
    "            for c in class_dict[g]:\n",
    "                for s in subject_list:\n",
    "                    x[d,p,g,c,s] = pulp.LpVariable(cat=\"Binary\",name=f\"x_{d}_{p}_{g}_{c}_{s}\")\n",
    "\n",
    "#y_曜日_時限_教員\n",
    "for d in week:\n",
    "    for p in period:\n",
    "        for t in teacher_list:\n",
    "            y[d,p,t] = pulp.LpVariable(cat=\"Binary\",name=f\"y_{d}_{p}_{t}\")\n",
    "\n",
    "#z_曜日_時限_学年\n",
    "for d in week:\n",
    "    for p in period:\n",
    "        for g in grade_list:\n",
    "            z[d,p,g] = pulp.LpVariable(cat=\"Integer\",name=f\"z_{d}_{p}_{g}\")"
   ]
  },
  {
   "cell_type": "markdown",
   "id": "7ed9c335",
   "metadata": {},
   "source": [
    "クラス基本制約<br>\n",
    "(1) 1 つの時限では必ず 1 つ授業を行う<br>\n",
    "教科制約<br>\n",
    "(2) 各教科は必要授業数だけ行う<br>\n",
    "(3) 各教科は 1 日の授業数の上下限を守る<br>\n",
    "(4) 総合、体育など時限に制約のある教科の制約\n",
    "移動教室は連続しない、総合と道徳は6限で学年で行う\n",
    "\n",
    "教員制約<br>\n",
    "(5) 1 教員が行う授業は可能時限に対し 1 つだけである<br>\n",
    "(6) 1 教員が 1 日に行う授業数の上下限を守る<br>"
   ]
  },
  {
   "cell_type": "code",
   "execution_count": 148,
   "id": "1632408a",
   "metadata": {},
   "outputs": [],
   "source": [
    "#(1)\n",
    "for d in week:\n",
    "    for p in period:\n",
    "        for g in grade_list:\n",
    "            for c in class_dict[g]:\n",
    "                model += pulp.lpSum([x[d,p,g,c,s] for s in subject_list]) == 1"
   ]
  },
  {
   "cell_type": "code",
   "execution_count": 149,
   "id": "bb8db729",
   "metadata": {},
   "outputs": [],
   "source": [
    "#(2)\n",
    "for g in grade_list:\n",
    "    for c in class_dict[g]:\n",
    "        for s in subject_list:\n",
    "            model += pulp.lpSum([x[d,p,g,c,s] for d in week for p in period]) == subject_dict[s]"
   ]
  },
  {
   "cell_type": "code",
   "execution_count": 150,
   "id": "ce51d78f",
   "metadata": {},
   "outputs": [],
   "source": [
    "#(3)\n",
    "for d in week:\n",
    "    for g in grade_list:\n",
    "        for c in class_dict[g]:\n",
    "            for s in subject_list:\n",
    "                model += pulp.lpSum([x[d,p,g,c,s] for p in period]) <= 1"
   ]
  },
  {
   "cell_type": "code",
   "execution_count": 151,
   "id": "e51d5c8e",
   "metadata": {},
   "outputs": [],
   "source": [
    "#(4)\n",
    "#移動教室は連続しない\n",
    "for d in week:\n",
    "    for p in period[:5]:\n",
    "        for g in grade_list:\n",
    "            for c in class_dict[g]:\n",
    "                model += pulp.lpSum([x[d,p,g,c,s] + x[d,p+1,g,c,s] for s in Classroom_mobility]) <= 1\n",
    "\n",
    "(5)\n",
    "#総合と道徳は6限\n",
    "for d in week:\n",
    "    for p in period[:5]:\n",
    "        for g in grade_list:\n",
    "            for c in class_dict[g]:\n",
    "                model += pulp.lpSum([x[d,p,g,c,s] for s in six_period]) == 0\n",
    "\n",
    "#総合と道徳は学年で時限を統一する\n",
    "for d in week:\n",
    "    for g in grade_list:\n",
    "        for c in class_dict[g][:-1]:\n",
    "            for s in six_period:\n",
    "                model += x[d,6,g,c,s] == x[d,6,g,c+1,s]\n",
    " \n",
    "#総合と道徳は異なる学年で同じ時間には行わない\n",
    "for d in week:\n",
    "    for s in six_period:\n",
    "        model += pulp.lpSum(x[d,6,g,1,s] for g in grade_list) <= 1"
   ]
  },
  {
   "cell_type": "code",
   "execution_count": 152,
   "id": "bf93ba8b",
   "metadata": {},
   "outputs": [],
   "source": [
    "#yをxの関数として定義 y=f(x)\n",
    "for d in week:\n",
    "    for p in period:\n",
    "        for g in grade_list:\n",
    "            for c in class_dict[g]:\n",
    "                for s in subject_list:\n",
    "                    df = lesson_df[lesson_df[\"gr\"] == g]\n",
    "                    t = df[df[\"cl\"] == c][s].values[0]\n",
    "                    y[d,p,t] += x[d,p,g,c,s]"
   ]
  },
  {
   "cell_type": "code",
   "execution_count": 153,
   "id": "4315a20b",
   "metadata": {},
   "outputs": [],
   "source": [
    "#(6)\n",
    "for d in week:\n",
    "    for t in teacher_list:\n",
    "        model += pulp.lpSum([y[d,p,t] for p in period]) <= 6\n",
    "        model += pulp.lpSum([y[d,p,t] for p in period]) >= 4"
   ]
  },
  {
   "cell_type": "code",
   "execution_count": 154,
   "id": "4b7ca981",
   "metadata": {},
   "outputs": [],
   "source": [
    "for d in week:\n",
    "    for p in period:\n",
    "        for g in grade_list:\n",
    "            z[d,p,g] = list(teacher_dict.values()).count(g) - pulp.lpSum([y[d,p,t] for t in [a for a in teacher_list if teacher_dict[a] == g]])"
   ]
  },
  {
   "cell_type": "code",
   "execution_count": 155,
   "id": "28c7ea73",
   "metadata": {},
   "outputs": [],
   "source": [
    "model += pulp.lpSum([np.max([z[d,p,g] for g in grade_list]) - np.min([z[d,p,g] for g in grade_list]) for d in week for p in period])"
   ]
  },
  {
   "cell_type": "code",
   "execution_count": 156,
   "id": "53638779",
   "metadata": {},
   "outputs": [
    {
     "data": {
      "text/plain": [
       "1"
      ]
     },
     "execution_count": 156,
     "metadata": {},
     "output_type": "execute_result"
    }
   ],
   "source": [
    "model.solve()"
   ]
  },
  {
   "cell_type": "code",
   "execution_count": 173,
   "id": "92843ada",
   "metadata": {},
   "outputs": [],
   "source": [
    "def export_table(g,c):\n",
    "    timetable_df = pd.DataFrame(index=period,columns=week)\n",
    "    \n",
    "    for d in week:\n",
    "        for p in period:\n",
    "            for s in subject_list:\n",
    "                if x[d,p,g,c,s].value() == 1.0:\n",
    "                    timetable_df[d][p] = s\n",
    "\n",
    "    print(timetable_df)"
   ]
  },
  {
   "cell_type": "code",
   "execution_count": 174,
   "id": "90304b59",
   "metadata": {},
   "outputs": [
    {
     "data": {
      "text/html": [
       "<div>\n",
       "<style scoped>\n",
       "    .dataframe tbody tr th:only-of-type {\n",
       "        vertical-align: middle;\n",
       "    }\n",
       "\n",
       "    .dataframe tbody tr th {\n",
       "        vertical-align: top;\n",
       "    }\n",
       "\n",
       "    .dataframe thead th {\n",
       "        text-align: right;\n",
       "    }\n",
       "</style>\n",
       "<table border=\"1\" class=\"dataframe\">\n",
       "  <thead>\n",
       "    <tr style=\"text-align: right;\">\n",
       "      <th></th>\n",
       "      <th>月</th>\n",
       "      <th>火</th>\n",
       "      <th>水</th>\n",
       "      <th>木</th>\n",
       "      <th>金</th>\n",
       "    </tr>\n",
       "  </thead>\n",
       "  <tbody>\n",
       "    <tr>\n",
       "      <th>1</th>\n",
       "      <td>[]</td>\n",
       "      <td>[]</td>\n",
       "      <td>[]</td>\n",
       "      <td>[]</td>\n",
       "      <td>[]</td>\n",
       "    </tr>\n",
       "    <tr>\n",
       "      <th>2</th>\n",
       "      <td>[]</td>\n",
       "      <td>[]</td>\n",
       "      <td>[]</td>\n",
       "      <td>[]</td>\n",
       "      <td>[]</td>\n",
       "    </tr>\n",
       "    <tr>\n",
       "      <th>3</th>\n",
       "      <td>[]</td>\n",
       "      <td>[]</td>\n",
       "      <td>[]</td>\n",
       "      <td>[]</td>\n",
       "      <td>[]</td>\n",
       "    </tr>\n",
       "    <tr>\n",
       "      <th>4</th>\n",
       "      <td>[]</td>\n",
       "      <td>[]</td>\n",
       "      <td>[]</td>\n",
       "      <td>[]</td>\n",
       "      <td>[]</td>\n",
       "    </tr>\n",
       "    <tr>\n",
       "      <th>5</th>\n",
       "      <td>[]</td>\n",
       "      <td>[]</td>\n",
       "      <td>[]</td>\n",
       "      <td>[]</td>\n",
       "      <td>[]</td>\n",
       "    </tr>\n",
       "    <tr>\n",
       "      <th>6</th>\n",
       "      <td>[]</td>\n",
       "      <td>[]</td>\n",
       "      <td>[]</td>\n",
       "      <td>[]</td>\n",
       "      <td>[]</td>\n",
       "    </tr>\n",
       "  </tbody>\n",
       "</table>\n",
       "</div>"
      ],
      "text/plain": [
       "    月   火   水   木   金\n",
       "1  []  []  []  []  []\n",
       "2  []  []  []  []  []\n",
       "3  []  []  []  []  []\n",
       "4  []  []  []  []  []\n",
       "5  []  []  []  []  []\n",
       "6  []  []  []  []  []"
      ]
     },
     "execution_count": 174,
     "metadata": {},
     "output_type": "execute_result"
    }
   ],
   "source": [
    "timetable_df"
   ]
  },
  {
   "cell_type": "code",
   "execution_count": 175,
   "id": "145c4929",
   "metadata": {},
   "outputs": [
    {
     "name": "stdout",
     "output_type": "stream",
     "text": [
      "    月   火   水    木   金\n",
      "1  技術  英語  美術   美術  音楽\n",
      "2  社会  社会  英語   数学  英語\n",
      "3  理科  国語  社会  家庭科  社会\n",
      "4  英語  数学  理科   国語  体育\n",
      "5  国語  理科  数学   理科  国語\n",
      "6  数学  音楽  体育   道徳  総合\n"
     ]
    }
   ],
   "source": [
    "export_table(2,1)"
   ]
  },
  {
   "cell_type": "code",
   "execution_count": 176,
   "id": "19a5deba",
   "metadata": {},
   "outputs": [
    {
     "name": "stdout",
     "output_type": "stream",
     "text": [
      "    月   火    水   木   金\n",
      "1  美術  理科   音楽  音楽  理科\n",
      "2  英語  社会   理科  英語  美術\n",
      "3  理科  英語  家庭科  社会  国語\n",
      "4  数学  数学   英語  数学  数学\n",
      "5  国語  体育   国語  国語  社会\n",
      "6  総合  道徳   社会  体育  技術\n"
     ]
    }
   ],
   "source": [
    "export_table(1,1)"
   ]
  },
  {
   "cell_type": "code",
   "execution_count": 179,
   "id": "4cd1f72d",
   "metadata": {},
   "outputs": [
    {
     "name": "stdout",
     "output_type": "stream",
     "text": [
      "    月    火   水   木   金\n",
      "1  美術   技術  理科  英語  音楽\n",
      "2  数学   英語  社会  社会  社会\n",
      "3  理科  家庭科  美術  理科  体育\n",
      "4  国語   数学  国語  国語  英語\n",
      "5  英語   音楽  数学  数学  国語\n",
      "6  社会   理科  体育  総合  道徳\n"
     ]
    }
   ],
   "source": [
    "export_table(3,1)"
   ]
  },
  {
   "cell_type": "code",
   "execution_count": null,
   "id": "77ec1771",
   "metadata": {},
   "outputs": [],
   "source": []
  }
 ],
 "metadata": {
  "kernelspec": {
   "display_name": "Python 3 (ipykernel)",
   "language": "python",
   "name": "python3"
  },
  "language_info": {
   "codemirror_mode": {
    "name": "ipython",
    "version": 3
   },
   "file_extension": ".py",
   "mimetype": "text/x-python",
   "name": "python",
   "nbconvert_exporter": "python",
   "pygments_lexer": "ipython3",
   "version": "3.9.12"
  }
 },
 "nbformat": 4,
 "nbformat_minor": 5
}
